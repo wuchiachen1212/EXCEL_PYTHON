{
 "cells": [
  {
   "cell_type": "markdown",
   "metadata": {},
   "source": [
    "# 認識歷史回測\n",
    "\n",
    "當我們在市場上交易時，若是對當前市場的趨勢變動沒有把握時，就需要歷史回測(Back Testing)模擬真實的開盤狀況，借此來驗證自己的交易策略是否是有效的。回測不僅僅只是數學計量模型的計算，也包含了計量模型以外的市場分析。\n",
    "\n",
    "以往大家都沒有完整的歷史數據、只有零散在各處的新聞媒體或券商的統計、盤後資料時，是很難進行歷史回測的。而現在由於資料取得容易，計量回測就成了一個不可或缺的工具。"
   ]
  },
  {
   "cell_type": "markdown",
   "metadata": {},
   "source": [
    "# 先 import 我們所需要的模組"
   ]
  },
  {
   "cell_type": "code",
   "execution_count": null,
   "metadata": {},
   "outputs": [],
   "source": [
    "import xlwings as xw"
   ]
  },
  {
   "cell_type": "code",
   "execution_count": null,
   "metadata": {},
   "outputs": [],
   "source": [
    "# 打開你的 tsmc_back_test.xlsx 檔案\n",
    "wb = xw.Book(r\"放置 tsmc_back_test.xlsx 的路徑\")"
   ]
  },
  {
   "cell_type": "code",
   "execution_count": null,
   "metadata": {},
   "outputs": [],
   "source": [
    "tsmc_sheet = wb.sheets['2330']\n",
    "tsmc_sheet"
   ]
  },
  {
   "cell_type": "markdown",
   "metadata": {},
   "source": [
    "# 計算加權移動平均"
   ]
  },
  {
   "cell_type": "markdown",
   "metadata": {},
   "source": [
    "## 動態截取資料的筆數"
   ]
  },
  {
   "cell_type": "code",
   "execution_count": null,
   "metadata": {},
   "outputs": [],
   "source": [
    "# 會 VBA 的人，馬上可以看出 xlwings 原汁原味的實作了 Python 版的 End() 函數\n",
    "from xlwings.constants import Direction\n",
    "\n",
    "# 從 B1 儲存格開始，往下查找到最後一個有值的儲存格\n",
    "last_cell = tsmc_sheet.range('A1').end(Direction.xlDown)\n",
    "# 把從 A1 開始，最右下角的儲存格底色換成紅色\n",
    "last_cell.color = (255, 0, 0)\n",
    "# 截取該儲存格的 row 值\n",
    "last_row = last_cell.row\n",
    "last_row\n",
    "# 這樣我們就不會因爲試算表資料的改變而需要頻繁的修改程式碼"
   ]
  },
  {
   "cell_type": "markdown",
   "metadata": {},
   "source": [
    "## 動態設定 Excel 儲存格或範圍的名稱\n",
    "\n",
    "```python\n",
    "# 可以用 name 屬性定義一個儲存格的名稱\n",
    "cells(1, 'A').name = 'hello'\n",
    "# 同樣的，range 也有 name 屬性\n",
    "range('A1:A3').name = 'world'\n",
    "```"
   ]
  },
  {
   "cell_type": "code",
   "execution_count": null,
   "metadata": {},
   "outputs": [],
   "source": [
    "# 設定我們的範例試算表上的名稱\n",
    "tsmc_sheet.range('K2:K11').name = 'weight10d'\n",
    "tsmc_sheet.range('K2:K6').name = 'weight5d'"
   ]
  },
  {
   "cell_type": "markdown",
   "metadata": {},
   "source": [
    "## 接下來我們算出短期 (5日) 與長期 (10日) 的移動平均"
   ]
  },
  {
   "cell_type": "code",
   "execution_count": null,
   "metadata": {},
   "outputs": [],
   "source": [
    "# 5日加權移動平均計算\n",
    "for i in range(6, last_row+1):\n",
    "    # 由於我們需要把兩個陣列相乘，因此這是一個 Excel 的陣列運算\n",
    "    formula = \"=SUM(B{}:B{}*weight5d)/SUM(weight5d)\".format(i-4, i)\n",
    "    # 若一個 Excel 的公式使用到陣列運算，需要用 .formula_array 設定\n",
    "    tsmc_sheet.cells(i, 'C').formula_array = formula"
   ]
  },
  {
   "cell_type": "code",
   "execution_count": null,
   "metadata": {},
   "outputs": [],
   "source": [
    "# 10日加權移動平均計算\n",
    "for i in range(11, last_row+1):\n",
    "    # 由於我們需要把兩個陣列相乘，因此這是一個 Excel 的陣列運算\n",
    "    formula = \"=SUM(B{}:B{}*weight10d)/SUM(weight10d)\".format(i-9, i)\n",
    "    # 若一個 Excel 的公式使用到陣列運算，需要用 .formula_array 設定\n",
    "    tsmc_sheet.cells(i, 'D').formula_array = formula"
   ]
  },
  {
   "cell_type": "markdown",
   "metadata": {},
   "source": [
    "## 流程控制\n",
    "\n",
    "![flow control](https://www.dropbox.com/s/01oyzdlgiyafmzo/flow_control.jpg?raw=1)\n",
    "當我們遇上程式需要針對不同選項執行不同結果時，我們需要學會用程式語言表達 Yes 和 No，以及邏輯上的分支點\n",
    "\n",
    "## Boolean (布林值)\n",
    "布林值和整數一樣為資料型別，只有兩個值：\n",
    "\n",
    "```python\n",
    "True # 代表成立\n",
    "False # 代表不成立\n",
    "```\n",
    "\n",
    "---\n",
    "## 比較運算子\n",
    "\n",
    "| 運算子 | 功能     |\n",
    "| :----: | :------: |\n",
    "| ==     | 等於     |\n",
    "| !=     | 不等於   |\n",
    "| <      | 小於     |\n",
    "| >      | 大於     |\n",
    "| <=     | 小於等於 |\n",
    "| >=     | 大於等於 |\n",
    "\n",
    "---\n",
    "## 範例\n",
    "\n",
    "```python\n",
    "'hello' == 'hello'\n",
    "# True\n",
    "47 > 47\n",
    "# False\n",
    "47 >= 47\n",
    "# True\n",
    "```\n",
    "\n",
    "---\n",
    "## if 陳述句\n",
    "若 `if` 後面的比較式條件成立，也就是結果為 `True`，則執行子句中的程式碼：\n",
    "\n",
    "```python\n",
    "myName = \"Bob\"\n",
    "\n",
    "if myName == \"Bob\":\n",
    "    print(\"my name is Bob!\")\n",
    "```\n",
    "\n",
    "---\n",
    "## if...else 陳述句\n",
    "\n",
    "若 `if` 關鍵字後面的比較式結果為 `False`，則忽略 `if` 子句，執行 `else` 的子句：\n",
    "\n",
    "```python\n",
    "myName = \"Alice\"\n",
    "\n",
    "if myName == \"Bob\":\n",
    "    print(\"my name is Bob!\")\n",
    "else:\n",
    "    print(\"my name is {}!\".format(myName))\n",
    "```\n",
    "\n",
    "---\n",
    "## elif 陳述句\n",
    "白話文就是指 \"否則如果\"\n",
    "\n",
    "當可能性/選項超出兩種時，可用：\n",
    "\n",
    "```python\n",
    "name = \"Mary\"\n",
    "\n",
    "if name == \"Bob\":\n",
    "    print(\"Hello Bob!\")\n",
    "elif name == \"Alice\":\n",
    "    print(\"Hello Alice!\")\n",
    "elif name == \"Mary\":\n",
    "    print(\"Hello Mary!\")\n",
    "else\n",
    "    print(\"Hello Stranger!\")\n",
    "```\n",
    "\n",
    "只要 `if` 後面的條件結果是 `False`，便會看 `elif` 後面的條件，\n",
    "若比較式結果為 `True`，便會執行 `elif` 的子句，不然便會繼續\n",
    "檢查下一個 `elif`，若全部的比較式結果都是 `False`，則執行 `else`\n",
    "底下的程式碼\n",
    "\n",
    "---\n",
    "## and, or, not\n",
    "\n",
    "![](https://www.dropbox.com/s/nf5bu3bx9tx6luv/logical.png?dl=1)"
   ]
  },
  {
   "cell_type": "markdown",
   "metadata": {},
   "source": [
    "# 我們的交易策略\n",
    "\n",
    "我們用加權移動平均分別算出一個長期與短期的量化指標，再利用這兩個指標判斷進出場的時機：\n",
    "\n",
    "- 如果 :五日均價 > 十日均價 = **買入一張**\n",
    "- 如果 :五日均價 < 十日均價 = **賣出一張**\n",
    "\n",
    "***備注：非投資建議，本課程提供的資料及交易策略，只可作為參考用途，學員在投資前，務請運用個人獨立思考做出抉擇，如因此招致任何損失，概與本課程無涉。**\n",
    "\n",
    "\n",
    "## 我們先透過此策略，手動計算第一筆資料：\n",
    "\n",
    "| 日期        | 收盤價    | 5日加權 | 10日加權 |買入股數 |賣出股數|持有股數|持有資金|總資產|\n",
    "| ----------- |:--------:|:-------:|:-------:|:------:|:-----:|:------:|:-----:|-----:|\n",
    "| 2017/10/20  | 237.5    | 237.6667| 236.590 |1000    |0      |1000    |762500 |1000000|"
   ]
  },
  {
   "cell_type": "code",
   "execution_count": null,
   "metadata": {},
   "outputs": [],
   "source": [
    "# 計算第一天的交易 2017/10/20\n",
    "\n",
    "tsmc_sheet.cells(11, 'E').value = 1000\n",
    "tsmc_sheet.cells(11, 'F').value = 0\n",
    "tsmc_sheet.cells(11, 'G').value = 1000\n",
    "tsmc_sheet.cells(11, 'H').value =  tsmc_sheet.cells(18, 'L').value - tsmc_sheet.cells(11, 'B').value * 1000\n",
    "tsmc_sheet.cells(11, 'I').value = tsmc_sheet.cells(11, 'H').value +  tsmc_sheet.cells(11, 'B').value * tsmc_sheet.cells(11, 'G').value"
   ]
  },
  {
   "cell_type": "code",
   "execution_count": null,
   "metadata": {},
   "outputs": [],
   "source": [
    "# 實作交易策略\n",
    "\n",
    "for i in range(12, last_row+1):\n",
    "    # 截取當天的 5日加權移動平均\n",
    "    short_term_ma = tsmc_sheet.cells(i, 'C').value\n",
    "    # 截取當天的 10日加權移動平均\n",
    "    long_term_ma = tsmc_sheet.cells(i, 'D').value\n",
    "    # 截取當天收盤價\n",
    "    price_today = tsmc_sheet.cells(i, 'B').value\n",
    "    # 若 5日 > 10日，而且我有足夠買入以今日收盤價計價的 1000 股的現金，就買入 1000 股（在 E 欄顯示 1000）\n",
    "    if (short_term_ma > long_term_ma) and (tsmc_sheet.cells(i-1, 'H').value > price_today * 1000):\n",
    "        tsmc_sheet.cells(i, 'E').value = 1000\n",
    "    else:\n",
    "    # 若上述條件不符和，就買入 0 股，（在 E 欄顯示 0）\n",
    "        tsmc_sheet.cells(i, 'E').value = 0\n",
    "    # 若 10日 > 5日，而且昨天的持有股數大於 1000 股，就賣出 1000 股\n",
    "\n",
    "    if (long_term_ma > short_term_ma) and (tsmc_sheet.cells(i-1, 'G').value >= 1000):\n",
    "        tsmc_sheet.cells(i, 'F').value = 1000\n",
    "    else:\n",
    "        tsmc_sheet.cells(i, 'F').value = 0\n",
    "    # 持有股數，算法是前一天的持有股數 + 今天的買入股數 - 今天的賣出股數\n",
    "    tsmc_sheet.cells(i, 'G').value = tsmc_sheet.cells(i-1, 'G').value + tsmc_sheet.cells(i, 'E').value - tsmc_sheet.cells(i, 'F').value\n",
    "    # 持有資金，算法是前一天的持有資金 + 今日收盤價 x (今天的賣出股數 - 今天的買入股數)\n",
    "    tsmc_sheet.cells(i, 'H').value = tsmc_sheet.cells(i-1, 'H').value + price_today * (tsmc_sheet.cells(i, 'F').value - tsmc_sheet.cells(i, 'E').value)\n",
    "    # 總資產則是持有股數 x 今日收盤價 + 今日持有資金\n",
    "    tsmc_sheet.cells(i, 'I').value = tsmc_sheet.cells(i, 'H').value + tsmc_sheet.cells(i, 'G').value * price_today\n",
    "\n",
    "# 計算并且將總收益顯示在 L20\n",
    "tsmc_sheet.cells(20, 'L').value = tsmc_sheet.cells(last_row, 'I').value - tsmc_sheet.cells(18, 'L').value"
   ]
  },
  {
   "cell_type": "code",
   "execution_count": null,
   "metadata": {},
   "outputs": [],
   "source": []
  }
 ],
 "metadata": {
  "kernelspec": {
   "display_name": "Python 3",
   "language": "python",
   "name": "python3"
  },
  "language_info": {
   "codemirror_mode": {
    "name": "ipython",
    "version": 3
   },
   "file_extension": ".py",
   "mimetype": "text/x-python",
   "name": "python",
   "nbconvert_exporter": "python",
   "pygments_lexer": "ipython3",
   "version": "3.6.4"
  }
 },
 "nbformat": 4,
 "nbformat_minor": 2
}

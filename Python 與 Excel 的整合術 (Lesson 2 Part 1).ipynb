{
 "cells": [
  {
   "cell_type": "code",
   "execution_count": null,
   "metadata": {},
   "outputs": [],
   "source": [
    "import xlwings as xw\n",
    "# 打開你的 stock_price_data.xlsx 檔案\n",
    "wb = xw.Book(r'你的 stock_price_data.xlsx 檔案路徑')\n",
    "\n",
    "tsmc_sheet = wb.sheets['2330']"
   ]
  },
  {
   "cell_type": "markdown",
   "metadata": {},
   "source": [
    "# .formula 屬性\n",
    "\n",
    "\n",
    "每一個儲存格都有一個 formula 屬性，可以利用 python 動態設定該儲存格的公式\n",
    "\n",
    "\n",
    "**注意公式需要用字串 \"\" 表示，都是從 \"=\" 開始**\n",
    "\n",
    "```python\n",
    "tsmc_sheet.cells(4, \"D\").formula = \"=AVERAGE(B2:B4)\"\n",
    "```\n",
    "\n",
    "當然，我也可以用 range() 來選擇 D4:\n",
    "\n",
    "```python\n",
    "tsmc_sheet.range('D4').formula = \"=AVERAGE(B2:B4)\"\n",
    "```\n",
    "\n"
   ]
  },
  {
   "cell_type": "code",
   "execution_count": null,
   "metadata": {},
   "outputs": [],
   "source": [
    "tsmc_sheet.cells(4, \"D\").formula = \"=AVERAGE(B2:B4)\""
   ]
  },
  {
   "cell_type": "markdown",
   "metadata": {},
   "source": [
    "# 隨堂練習\n",
    "\n",
    "利用設定 .formula 屬性的方式計算每一天的三日移動平均：\n",
    "\n",
    "```python\n",
    "num_of_rows = tsmc_sheet.range('B1').end(Direction.xlDown).row\n",
    "\n",
    "for i in range(3, _________):\n",
    "    formula = ________________________\n",
    "    cells(i, ____).formula = formula\n",
    "```"
   ]
  },
  {
   "cell_type": "markdown",
   "metadata": {},
   "source": [
    "# .color 屬性\n",
    "\n",
    "每一個儲存格都有一個 color 屬性，可以利用 python 動態設定儲存格的底色\n",
    "\n",
    "注意 color 的表達方式是將三原色 (RGB 值) 用 tuple (元組) 來表示：\n",
    "\n",
    "```python\n",
    "# 紅色亮度調最大，藍色、綠色調最小\n",
    "(255, 0, 0)\n",
    "```\n",
    "\n",
    "所以若要把 A1 儲存格的底色換成紅色：\n",
    "\n",
    "```python\n",
    "tsmc_sheet.cells(1, \"A\").color = (255, 0, 0)\n",
    "```"
   ]
  },
  {
   "cell_type": "markdown",
   "metadata": {},
   "source": [
    "# 回家作業：\n",
    "\n",
    "將之前計算出來的報酬率加上一點視覺效果:\n",
    "\n",
    "若當天**上漲，就將儲存格底色變成紅色**\n",
    "\n",
    "**若當天下跌，就將儲存格底色變成綠色**\n",
    "\n",
    "## 提示影片：\n",
    "\n",
    "[![IMAGE ALT TEXT](http://img.youtube.com/vi/xDztsNqNaq4/0.jpg)](http://www.youtube.com/watch?v=xDztsNqNaq4 \"Video Title\")"
   ]
  }
 ],
 "metadata": {
  "kernelspec": {
   "display_name": "Python 3",
   "language": "python",
   "name": "python3"
  },
  "language_info": {
   "codemirror_mode": {
    "name": "ipython",
    "version": 3
   },
   "file_extension": ".py",
   "mimetype": "text/x-python",
   "name": "python",
   "nbconvert_exporter": "python",
   "pygments_lexer": "ipython3",
   "version": "3.6.4"
  }
 },
 "nbformat": 4,
 "nbformat_minor": 2
}
